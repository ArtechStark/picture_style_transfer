{
 "cells": [
  {
   "cell_type": "code",
   "execution_count": 1,
   "metadata": {},
   "outputs": [
    {
     "name": "stdout",
     "output_type": "stream",
     "text": [
      "/root/anaconda3/lib/python3.6/site-packages/h5py/__init__.py:36: FutureWarning: Conversion of the second argument of issubdtype from `float` to `np.floating` is deprecated. In future, it will be treated as `np.float64 == np.dtype(float).type`.\n",
      "  from ._conv import register_converters as _register_converters\n",
      "2018-11-21 09:01:53.446657: I tensorflow/core/platform/cpu_feature_guard.cc:141] Your CPU supports instructions that this TensorFlow binary was not compiled to use: SSE4.1 SSE4.2 AVX AVX2 AVX512F FMA\n",
      "2018-11-21 09:01:53.447689: I tensorflow/core/common_runtime/process_util.cc:69] Creating new thread pool with default inter op setting: 2. Tune using inter_op_parallelism_threads for best performance.\n",
      "Optimization started...\n",
      "Iteration    1/ 100\n",
      "Iteration    2/ 100\n",
      "Iteration    3/ 100\n",
      "Iteration    4/ 100\n",
      "Iteration    5/ 100\n",
      "Iteration    6/ 100\n",
      "Iteration    7/ 100\n",
      "Iteration    8/ 100\n",
      "Iteration    9/ 100\n",
      "Iteration   10/ 100\n",
      "Iteration   11/ 100\n",
      "Iteration   12/ 100\n",
      "Iteration   13/ 100\n",
      "Iteration   14/ 100\n",
      "Iteration   15/ 100\n",
      "Iteration   16/ 100\n",
      "Iteration   17/ 100\n",
      "Iteration   18/ 100\n",
      "Iteration   19/ 100\n",
      "Iteration   20/ 100\n",
      "Iteration   21/ 100\n",
      "Iteration   22/ 100\n",
      "Iteration   23/ 100\n",
      "Iteration   24/ 100\n",
      "Iteration   25/ 100\n",
      "Iteration   26/ 100\n",
      "Iteration   27/ 100\n",
      "Iteration   28/ 100\n",
      "Iteration   29/ 100\n",
      "Iteration   30/ 100\n",
      "Iteration   31/ 100\n",
      "Iteration   32/ 100\n",
      "Iteration   33/ 100\n",
      "Iteration   34/ 100\n",
      "Iteration   35/ 100\n",
      "Iteration   36/ 100\n",
      "Iteration   37/ 100\n",
      "Iteration   38/ 100\n",
      "Iteration   39/ 100\n",
      "Iteration   40/ 100\n",
      "Iteration   41/ 100\n",
      "Iteration   42/ 100\n",
      "Iteration   43/ 100\n",
      "Iteration   44/ 100\n",
      "Iteration   45/ 100\n",
      "Iteration   46/ 100\n",
      "Iteration   47/ 100\n",
      "Iteration   48/ 100\n",
      "Iteration   49/ 100\n",
      "Iteration   50/ 100\n",
      "Iteration   51/ 100\n",
      "Iteration   52/ 100\n",
      "Iteration   53/ 100\n",
      "Iteration   54/ 100\n",
      "Iteration   55/ 100\n",
      "Iteration   56/ 100\n",
      "Iteration   57/ 100\n",
      "Iteration   58/ 100\n",
      "Iteration   59/ 100\n",
      "Iteration   60/ 100\n",
      "Iteration   61/ 100\n",
      "Iteration   62/ 100\n",
      "Iteration   63/ 100\n",
      "Iteration   64/ 100\n",
      "Iteration   65/ 100\n",
      "Iteration   66/ 100\n",
      "Iteration   67/ 100\n",
      "Iteration   68/ 100\n",
      "Iteration   69/ 100\n",
      "Iteration   70/ 100\n",
      "Iteration   71/ 100\n",
      "Iteration   72/ 100\n",
      "Iteration   73/ 100\n",
      "Iteration   74/ 100\n",
      "Iteration   75/ 100\n",
      "Iteration   76/ 100\n",
      "Iteration   77/ 100\n",
      "Iteration   78/ 100\n",
      "Iteration   79/ 100\n",
      "Iteration   80/ 100\n",
      "Iteration   81/ 100\n",
      "Iteration   82/ 100\n",
      "Iteration   83/ 100\n",
      "Iteration   84/ 100\n",
      "Iteration   85/ 100\n",
      "Iteration   86/ 100\n",
      "Iteration   87/ 100\n",
      "Iteration   88/ 100\n",
      "Iteration   89/ 100\n",
      "Iteration   90/ 100\n",
      "Iteration   91/ 100\n",
      "Iteration   92/ 100\n",
      "Iteration   93/ 100\n",
      "Iteration   94/ 100\n",
      "Iteration   95/ 100\n",
      "Iteration   96/ 100\n",
      "Iteration   97/ 100\n",
      "Iteration   98/ 100\n",
      "Iteration   99/ 100\n",
      "Iteration  100/ 100\n",
      "  content loss: 4.29344e+06\n",
      "    style loss: 2.1226e+06\n",
      "       tv loss: 249892\n",
      "    total loss: 6.66593e+06\n"
     ]
    }
   ],
   "source": [
    "import time\n",
    "start = time.time()\n",
    "!python picture_style_transfer.py --content example1/content.jpg --styles ./example1/style.jpg --output ./example1/output3.jpg  --iterations=100"
   ]
  },
  {
   "cell_type": "markdown",
   "metadata": {},
   "source": [
    "# 训练1000次所需总时间："
   ]
  },
  {
   "cell_type": "code",
   "execution_count": 2,
   "metadata": {},
   "outputs": [
    {
     "name": "stdout",
     "output_type": "stream",
     "text": [
      "程序耗时：49.91分\n"
     ]
    }
   ],
   "source": [
    "stop = time.time()\n",
    "print(\"程序耗时：{:.2f}分\".format((stop-start)*10/60))"
   ]
  }
 ],
 "metadata": {
  "kernelspec": {
   "display_name": "Python 3",
   "language": "python",
   "name": "python3"
  },
  "language_info": {
   "codemirror_mode": {
    "name": "ipython",
    "version": 3
   },
   "file_extension": ".py",
   "mimetype": "text/x-python",
   "name": "python",
   "nbconvert_exporter": "python",
   "pygments_lexer": "ipython3",
   "version": "3.6.5"
  },
  "toc": {
   "base_numbering": 1,
   "nav_menu": {},
   "number_sections": true,
   "sideBar": true,
   "skip_h1_title": false,
   "title_cell": "Table of Contents",
   "title_sidebar": "Contents",
   "toc_cell": false,
   "toc_position": {},
   "toc_section_display": true,
   "toc_window_display": false
  }
 },
 "nbformat": 4,
 "nbformat_minor": 2
}
